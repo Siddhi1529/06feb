{
  "nbformat": 4,
  "nbformat_minor": 0,
  "metadata": {
    "colab": {
      "provenance": []
    },
    "kernelspec": {
      "name": "python3",
      "display_name": "Python 3"
    },
    "language_info": {
      "name": "python"
    }
  },
  "cells": [
    {
      "cell_type": "markdown",
      "source": [
        "Q1. Create a function which will take a list as an argument and return the product of all the numbers\n",
        "after creating a flat list.\n",
        "Use the below-given list as an argument for your function.\n",
        "list1 = [1,2,3,4, [44,55,66, True], False, (34,56,78,89,34), {1,2,3,3,2,1}, {1:34, \"key2\": [55, 67, 78, 89], 4: (45,\n",
        "22, 61, 34)}, [56, 'data science'], 'Machine Learning']\n",
        "Note: you must extract numeric keys and values of the dictionary also.\n"
      ],
      "metadata": {
        "id": "7tOLQ9H-PFcP"
      }
    },
    {
      "cell_type": "code",
      "source": [
        "import math\n",
        "\n",
        "def flatten_and_multiply(data):\n",
        "    flat_list = []\n",
        "\n",
        "    # Recursive function to flatten the data\n",
        "    def flatten(data):\n",
        "        if isinstance(data, (int, float)):  # If the item is a number, add it to flat_list\n",
        "            flat_list.append(data)\n",
        "        elif isinstance(data, (list, tuple, set)):  # Handle list, tuple, or set\n",
        "            for item in data:\n",
        "                flatten(item)\n",
        "        elif isinstance(data, dict):  # If the item is a dictionary\n",
        "            for key, value in data.items():\n",
        "                if isinstance(key, (int, float)):  # Extract numeric keys\n",
        "                    flat_list.append(key)\n",
        "                flatten(value)  # Recurse on value of dictionary\n",
        "\n",
        "    flatten(data)\n",
        "\n",
        "    # Remove any 0 values or False values from the flat list\n",
        "    flat_list = [item for item in flat_list if isinstance(item, (int, float)) and item != 0 and item != False]\n",
        "\n",
        "    # Compute the product of all the numbers in the flat list\n",
        "    if not flat_list:  # If the flat list is empty, return 0 (no numbers found)\n",
        "        return 0\n",
        "\n",
        "    product = math.prod(flat_list)  # Multiply all numbers\n",
        "    return product\n"
      ],
      "metadata": {
        "id": "FPZ_K_wqPGm3"
      },
      "execution_count": 7,
      "outputs": []
    },
    {
      "cell_type": "code",
      "source": [
        "# Test the function\n",
        "list1 = [1, 2, 3, 4, [44, 55, 66, True], False, (34, 56, 78, 89, 34), {1, 2, 3, 3, 2, 1},\n",
        "         {1: 34, \"key2\": [55, 67, 78, 89], 4: (45, 22, 61, 34)}, [56, 'data science'], 'Machine Learning']\n",
        "\n",
        "result = flatten_and_multiply(list1)\n",
        "print(\"Product of all numbers:\", result)"
      ],
      "metadata": {
        "colab": {
          "base_uri": "https://localhost:8080/"
        },
        "id": "hGGpOn-aQXLA",
        "outputId": "f4dda544-7de9-415b-b671-d8a433c4fb79"
      },
      "execution_count": 8,
      "outputs": [
        {
          "output_type": "stream",
          "name": "stdout",
          "text": [
            "Product of all numbers: 4134711838987085478833841242112000\n"
          ]
        }
      ]
    },
    {
      "cell_type": "code",
      "source": [],
      "metadata": {
        "id": "6AJTM3l2Qagt"
      },
      "execution_count": null,
      "outputs": []
    },
    {
      "cell_type": "markdown",
      "source": [
        "Q2. Write a python program for encrypting a message sent to you by your friend. The logic of encryption\n",
        "should be such that, for a the output should be z. For b, the output should be y. For c, the output should\n",
        "be x respectively. Also, the whitespace should be replaced with a dollar sign. Keep the punctuation\n",
        "marks unchanged.\n",
        "Input Sentence: I want to become a Data Scientist.\n",
        "Encrypt the above input sentence using the program you just created.\n",
        "Note: Convert the given input sentence into lowercase before encrypting. The final output should be\n",
        "lowercase."
      ],
      "metadata": {
        "id": "e-WQHx67PGsb"
      }
    },
    {
      "cell_type": "code",
      "source": [
        "def encrypt_message(message):\n",
        "    # Convert the message to lowercase\n",
        "    message = message.lower()\n",
        "\n",
        "    encrypted_message = \"\"\n",
        "\n",
        "    # Iterate through each character in the message\n",
        "    for char in message:\n",
        "        # Encrypt the alphabetic characters\n",
        "        if char.isalpha():\n",
        "            # Calculate the new character using the reverse alphabet logic\n",
        "            encrypted_char = chr(219 - ord(char))  # ord('a') + ord('z') = 219\n",
        "            encrypted_message += encrypted_char\n",
        "        # Replace spaces with $\n",
        "        elif char == ' ':\n",
        "            encrypted_message += '$'\n",
        "        # Keep punctuation marks unchanged\n",
        "        else:\n",
        "            encrypted_message += char\n",
        "\n",
        "    return encrypted_message\n"
      ],
      "metadata": {
        "id": "tdpvtlpUPK49"
      },
      "execution_count": 9,
      "outputs": []
    },
    {
      "cell_type": "code",
      "source": [
        "# Test the function\n",
        "input_sentence = \"I want to become a Data Scientist.\"\n",
        "output_sentence = encrypt_message(input_sentence)\n",
        "print(\"Encrypted Message:\", output_sentence)"
      ],
      "metadata": {
        "colab": {
          "base_uri": "https://localhost:8080/"
        },
        "id": "GK7zBvJfQTI2",
        "outputId": "1bf11f1f-e9a1-4b8f-d8c3-4b9a96242e90"
      },
      "execution_count": 10,
      "outputs": [
        {
          "output_type": "stream",
          "name": "stdout",
          "text": [
            "Encrypted Message: r$dzmg$gl$yvxlnv$z$wzgz$hxrvmgrhg.\n"
          ]
        }
      ]
    }
  ]
}